{
 "cells": [
  {
   "cell_type": "code",
   "execution_count": 1,
   "id": "ea8c1bd7",
   "metadata": {},
   "outputs": [],
   "source": [
    "import pandas as pd\n",
    "import numpy as np\n",
    "import pandas as pd\n",
    "from sklearn.preprocessing import LabelEncoder"
   ]
  },
  {
   "cell_type": "code",
   "execution_count": 90,
   "id": "ea99db6b",
   "metadata": {},
   "outputs": [],
   "source": [
    "data=pd.read_csv(\"data.csv\")"
   ]
  },
  {
   "cell_type": "code",
   "execution_count": 91,
   "id": "24e2a988",
   "metadata": {},
   "outputs": [
    {
     "data": {
      "text/html": [
       "<div>\n",
       "<style scoped>\n",
       "    .dataframe tbody tr th:only-of-type {\n",
       "        vertical-align: middle;\n",
       "    }\n",
       "\n",
       "    .dataframe tbody tr th {\n",
       "        vertical-align: top;\n",
       "    }\n",
       "\n",
       "    .dataframe thead th {\n",
       "        text-align: right;\n",
       "    }\n",
       "</style>\n",
       "<table border=\"1\" class=\"dataframe\">\n",
       "  <thead>\n",
       "    <tr style=\"text-align: right;\">\n",
       "      <th></th>\n",
       "      <th>What's your preferred study level?</th>\n",
       "      <th>If Ph.D., do you already have a supervisor who's happy to work with you?</th>\n",
       "      <th>If Yes, has the supervisor approved your proposal?</th>\n",
       "      <th>What is your intended study area?</th>\n",
       "      <th>Choose the most preferred destination you would like to study?</th>\n",
       "      <th>Choose the second most preferred destination you would like to study?</th>\n",
       "      <th>Choose the third most preferred destination you would like to study?</th>\n",
       "      <th>What is the study plan month and year?</th>\n",
       "      <th>Have you contacted or shortlisted your University already?</th>\n",
       "      <th>Have you already started the application process directly with the university OR were you asked by the university to contact us to complete the application?</th>\n",
       "      <th>...</th>\n",
       "      <th>If yes, choose the number of backlogs you had</th>\n",
       "      <th>How much are you planning to spend on your studies and the living costs per year?</th>\n",
       "      <th>So you mentioned that your budget is XXX lakhs. How are you going to fund your studies?</th>\n",
       "      <th>Are your parents in service or doing their own business?</th>\n",
       "      <th>Have you taken any English proficiency test?</th>\n",
       "      <th>If yes, please provide the test</th>\n",
       "      <th>If yes, what was the score overall?</th>\n",
       "      <th>Have any of your family members studied abroad OR do you have any friends or family in the country that you want to study in?</th>\n",
       "      <th>Which other study abroad consultants are you in touch with for your application?</th>\n",
       "      <th>Lead converted flag</th>\n",
       "    </tr>\n",
       "  </thead>\n",
       "  <tbody>\n",
       "    <tr>\n",
       "      <th>0</th>\n",
       "      <td>Undergraduate</td>\n",
       "      <td>NaN</td>\n",
       "      <td>NaN</td>\n",
       "      <td>Other</td>\n",
       "      <td>New Zealand</td>\n",
       "      <td>New Zealand</td>\n",
       "      <td>New Zealand</td>\n",
       "      <td>01-01-21</td>\n",
       "      <td>No</td>\n",
       "      <td>NaN</td>\n",
       "      <td>...</td>\n",
       "      <td>NaN</td>\n",
       "      <td>10 - 20 lakhs</td>\n",
       "      <td>Parents asset</td>\n",
       "      <td>Own business</td>\n",
       "      <td>Yes</td>\n",
       "      <td>IELTS</td>\n",
       "      <td>5.5</td>\n",
       "      <td>Yes</td>\n",
       "      <td>Not in touch with any other consultant</td>\n",
       "      <td>0</td>\n",
       "    </tr>\n",
       "    <tr>\n",
       "      <th>1</th>\n",
       "      <td>Undergraduate</td>\n",
       "      <td>NaN</td>\n",
       "      <td>NaN</td>\n",
       "      <td>Other</td>\n",
       "      <td>New Zealand</td>\n",
       "      <td>New Zealand</td>\n",
       "      <td>New Zealand</td>\n",
       "      <td>01-01-21</td>\n",
       "      <td>No</td>\n",
       "      <td>NaN</td>\n",
       "      <td>...</td>\n",
       "      <td>NaN</td>\n",
       "      <td>10 - 20 lakhs</td>\n",
       "      <td>Parents asset</td>\n",
       "      <td>Own business</td>\n",
       "      <td>Yes</td>\n",
       "      <td>IELTS</td>\n",
       "      <td>5.5</td>\n",
       "      <td>Yes</td>\n",
       "      <td>Not in touch with any other consultant</td>\n",
       "      <td>0</td>\n",
       "    </tr>\n",
       "    <tr>\n",
       "      <th>2</th>\n",
       "      <td>Doctorate</td>\n",
       "      <td>Yes</td>\n",
       "      <td>Yes</td>\n",
       "      <td>Other</td>\n",
       "      <td>UK</td>\n",
       "      <td>UK</td>\n",
       "      <td>UK</td>\n",
       "      <td>01-01-21</td>\n",
       "      <td>Yes</td>\n",
       "      <td>No</td>\n",
       "      <td>...</td>\n",
       "      <td>NaN</td>\n",
       "      <td>20 - 30 lakhs</td>\n",
       "      <td>Bank loan</td>\n",
       "      <td>Own business</td>\n",
       "      <td>Yes</td>\n",
       "      <td>IELTS</td>\n",
       "      <td>8.0</td>\n",
       "      <td>No</td>\n",
       "      <td>Not in touch with any other consultancy</td>\n",
       "      <td>1</td>\n",
       "    </tr>\n",
       "    <tr>\n",
       "      <th>3</th>\n",
       "      <td>Undergraduate</td>\n",
       "      <td>NaN</td>\n",
       "      <td>NaN</td>\n",
       "      <td>Engineering</td>\n",
       "      <td>Australia</td>\n",
       "      <td>Canada</td>\n",
       "      <td>New Zealand</td>\n",
       "      <td>01.09.2021</td>\n",
       "      <td>No</td>\n",
       "      <td>NaN</td>\n",
       "      <td>...</td>\n",
       "      <td>NaN</td>\n",
       "      <td>10 lakhs or under</td>\n",
       "      <td>Other</td>\n",
       "      <td>Own business</td>\n",
       "      <td>No</td>\n",
       "      <td>NaN</td>\n",
       "      <td>NaN</td>\n",
       "      <td>Yes</td>\n",
       "      <td>Did not contact to any other consultant</td>\n",
       "      <td>0</td>\n",
       "    </tr>\n",
       "    <tr>\n",
       "      <th>4</th>\n",
       "      <td>Vocational</td>\n",
       "      <td>NaN</td>\n",
       "      <td>NaN</td>\n",
       "      <td>Other</td>\n",
       "      <td>New Zealand</td>\n",
       "      <td>Ireland</td>\n",
       "      <td>Canada</td>\n",
       "      <td>01-01-21</td>\n",
       "      <td>No</td>\n",
       "      <td>NaN</td>\n",
       "      <td>...</td>\n",
       "      <td>NaN</td>\n",
       "      <td>10 - 20 lakhs</td>\n",
       "      <td>Bank loan</td>\n",
       "      <td>Own business</td>\n",
       "      <td>Yes</td>\n",
       "      <td>IELTS</td>\n",
       "      <td>6.5</td>\n",
       "      <td>Yes</td>\n",
       "      <td>Not in touch with anyone</td>\n",
       "      <td>0</td>\n",
       "    </tr>\n",
       "    <tr>\n",
       "      <th>5</th>\n",
       "      <td>Vocational</td>\n",
       "      <td>NaN</td>\n",
       "      <td>NaN</td>\n",
       "      <td>Engineering</td>\n",
       "      <td>Australia</td>\n",
       "      <td>Canada</td>\n",
       "      <td>UK</td>\n",
       "      <td>01-01-21</td>\n",
       "      <td>No</td>\n",
       "      <td>NaN</td>\n",
       "      <td>...</td>\n",
       "      <td>NaN</td>\n",
       "      <td>10 lakhs or under</td>\n",
       "      <td>Combined self /parent funding and bank loan</td>\n",
       "      <td>Own business</td>\n",
       "      <td>No</td>\n",
       "      <td>NaN</td>\n",
       "      <td>NaN</td>\n",
       "      <td>No</td>\n",
       "      <td>No one</td>\n",
       "      <td>0</td>\n",
       "    </tr>\n",
       "  </tbody>\n",
       "</table>\n",
       "<p>6 rows × 25 columns</p>\n",
       "</div>"
      ],
      "text/plain": [
       "  What's your preferred study level?  \\\n",
       "0                      Undergraduate   \n",
       "1                      Undergraduate   \n",
       "2                          Doctorate   \n",
       "3                      Undergraduate   \n",
       "4                         Vocational   \n",
       "5                         Vocational   \n",
       "\n",
       "  If Ph.D., do you already have a supervisor who's happy to work with you?  \\\n",
       "0                                                NaN                         \n",
       "1                                                NaN                         \n",
       "2                                                Yes                         \n",
       "3                                                NaN                         \n",
       "4                                                NaN                         \n",
       "5                                                NaN                         \n",
       "\n",
       "  If Yes, has the supervisor approved your proposal?  \\\n",
       "0                                                NaN   \n",
       "1                                                NaN   \n",
       "2                                                Yes   \n",
       "3                                                NaN   \n",
       "4                                                NaN   \n",
       "5                                                NaN   \n",
       "\n",
       "  What is your intended study area?  \\\n",
       "0                             Other   \n",
       "1                             Other   \n",
       "2                             Other   \n",
       "3                       Engineering   \n",
       "4                             Other   \n",
       "5                       Engineering   \n",
       "\n",
       "  Choose the most preferred destination you would like to study?  \\\n",
       "0                                        New Zealand               \n",
       "1                                        New Zealand               \n",
       "2                                                 UK               \n",
       "3                                          Australia               \n",
       "4                                        New Zealand               \n",
       "5                                          Australia               \n",
       "\n",
       "  Choose the second most preferred destination you would like to study?  \\\n",
       "0                                        New Zealand                      \n",
       "1                                        New Zealand                      \n",
       "2                                                 UK                      \n",
       "3                                             Canada                      \n",
       "4                                            Ireland                      \n",
       "5                                             Canada                      \n",
       "\n",
       "  Choose the third most preferred destination you would like to study?  \\\n",
       "0                                        New Zealand                     \n",
       "1                                        New Zealand                     \n",
       "2                                                 UK                     \n",
       "3                                        New Zealand                     \n",
       "4                                             Canada                     \n",
       "5                                                 UK                     \n",
       "\n",
       "  What is the study plan month and year?  \\\n",
       "0                               01-01-21   \n",
       "1                               01-01-21   \n",
       "2                               01-01-21   \n",
       "3                             01.09.2021   \n",
       "4                               01-01-21   \n",
       "5                               01-01-21   \n",
       "\n",
       "  Have you contacted or shortlisted your University already?  \\\n",
       "0                                                 No           \n",
       "1                                                 No           \n",
       "2                                                Yes           \n",
       "3                                                 No           \n",
       "4                                                 No           \n",
       "5                                                 No           \n",
       "\n",
       "  Have you already started the application process directly with the university OR were you asked by the university to contact us to complete the application?  \\\n",
       "0                                                NaN                                                                                                             \n",
       "1                                                NaN                                                                                                             \n",
       "2                                                 No                                                                                                             \n",
       "3                                                NaN                                                                                                             \n",
       "4                                                NaN                                                                                                             \n",
       "5                                                NaN                                                                                                             \n",
       "\n",
       "   ... If yes, choose the number of backlogs you had  \\\n",
       "0  ...                                           NaN   \n",
       "1  ...                                           NaN   \n",
       "2  ...                                           NaN   \n",
       "3  ...                                           NaN   \n",
       "4  ...                                           NaN   \n",
       "5  ...                                           NaN   \n",
       "\n",
       "  How much are you planning to spend on your studies and the living costs per year?  \\\n",
       "0                                      10 - 20 lakhs                                  \n",
       "1                                      10 - 20 lakhs                                  \n",
       "2                                      20 - 30 lakhs                                  \n",
       "3                                  10 lakhs or under                                  \n",
       "4                                      10 - 20 lakhs                                  \n",
       "5                                  10 lakhs or under                                  \n",
       "\n",
       "   So you mentioned that your budget is XXX lakhs. How are you going to fund your studies?  \\\n",
       "0                                      Parents asset                                         \n",
       "1                                      Parents asset                                         \n",
       "2                                          Bank loan                                         \n",
       "3                                              Other                                         \n",
       "4                                          Bank loan                                         \n",
       "5        Combined self /parent funding and bank loan                                         \n",
       "\n",
       "  Are your parents in service or doing their own business?  \\\n",
       "0                                       Own business         \n",
       "1                                       Own business         \n",
       "2                                       Own business         \n",
       "3                                       Own business         \n",
       "4                                       Own business         \n",
       "5                                       Own business         \n",
       "\n",
       "  Have you taken any English proficiency test?  \\\n",
       "0                                          Yes   \n",
       "1                                          Yes   \n",
       "2                                          Yes   \n",
       "3                                           No   \n",
       "4                                          Yes   \n",
       "5                                           No   \n",
       "\n",
       "  If yes, please provide the test If yes, what was the score overall?  \\\n",
       "0                           IELTS                                 5.5   \n",
       "1                           IELTS                                 5.5   \n",
       "2                           IELTS                                 8.0   \n",
       "3                             NaN                                 NaN   \n",
       "4                           IELTS                                 6.5   \n",
       "5                             NaN                                 NaN   \n",
       "\n",
       "  Have any of your family members studied abroad OR do you have any friends or family in the country that you want to study in?  \\\n",
       "0                                                Yes                                                                              \n",
       "1                                                Yes                                                                              \n",
       "2                                                 No                                                                              \n",
       "3                                                Yes                                                                              \n",
       "4                                                Yes                                                                              \n",
       "5                                                 No                                                                              \n",
       "\n",
       "  Which other study abroad consultants are you in touch with for your application?  \\\n",
       "0             Not in touch with any other consultant                                 \n",
       "1             Not in touch with any other consultant                                 \n",
       "2            Not in touch with any other consultancy                                 \n",
       "3           Did not contact to any other consultant                                  \n",
       "4                           Not in touch with anyone                                 \n",
       "5                                             No one                                 \n",
       "\n",
       "  Lead converted flag  \n",
       "0                   0  \n",
       "1                   0  \n",
       "2                   1  \n",
       "3                   0  \n",
       "4                   0  \n",
       "5                   0  \n",
       "\n",
       "[6 rows x 25 columns]"
      ]
     },
     "execution_count": 91,
     "metadata": {},
     "output_type": "execute_result"
    }
   ],
   "source": [
    "data.head(6)"
   ]
  },
  {
   "cell_type": "code",
   "execution_count": 92,
   "id": "d1ff1b00",
   "metadata": {
    "scrolled": true
   },
   "outputs": [
    {
     "data": {
      "text/plain": [
       "Index(['What's your preferred study level?',\n",
       "       'If Ph.D., do you already have a supervisor who's happy to work with you?',\n",
       "       'If Yes, has the supervisor approved your proposal?',\n",
       "       'What is your intended study area?',\n",
       "       'Choose the most preferred destination you would like to study?',\n",
       "       'Choose the second most preferred destination you would like to study?',\n",
       "       'Choose the third most preferred destination you would like to study?',\n",
       "       'What is the study plan month and year?',\n",
       "       'Have you contacted or shortlisted your University already?',\n",
       "       'Have you already started the application process directly with the university OR were you asked by the university to contact us to complete the application?',\n",
       "       'Currently, are you a student or a working professional?',\n",
       "       'How much work experience do you have?',\n",
       "       'Please mention year of birth?', 'Do you already have a passport?',\n",
       "       'We would like to know bit better about your academic achievements so far. So have you had any backlogs?',\n",
       "       'If yes, choose the number of backlogs you had',\n",
       "       'How much are you planning to spend on your studies and the living costs per year?',\n",
       "       'So you mentioned that your budget is XXX lakhs. How are you going to fund your studies?',\n",
       "       'Are your parents in service or doing their own business?',\n",
       "       'Have you taken any English proficiency test?',\n",
       "       'If yes, please provide the test',\n",
       "       'If yes, what was the score overall?',\n",
       "       'Have any of your family members studied abroad OR do you have any friends or family in the country that you want to study in?',\n",
       "       'Which other study abroad consultants are you in touch with for your application?',\n",
       "       'Lead converted flag'],\n",
       "      dtype='object')"
      ]
     },
     "execution_count": 92,
     "metadata": {},
     "output_type": "execute_result"
    }
   ],
   "source": [
    "data.columns"
   ]
  },
  {
   "cell_type": "code",
   "execution_count": 93,
   "id": "f673acbe",
   "metadata": {},
   "outputs": [],
   "source": [
    "data.columns = [\n",
    "    'preferred_study_level', \n",
    "    'phd_supervisor', \n",
    "    'supervisor_approval', \n",
    "    'intended_study_area', \n",
    "    'preferred_dest_1', \n",
    "    'preferred_dest_2', \n",
    "    'preferred_dest_3', \n",
    "    'study_plan', \n",
    "    'uni_contacted', \n",
    "    'application_process', \n",
    "    'current_status', \n",
    "    'work_experience', \n",
    "    'birth_year', \n",
    "    'passport', \n",
    "    'academic_backlogs', \n",
    "    'number_of_backlogs', \n",
    "    'budget', \n",
    "    'funding_source', \n",
    "    'parents_occupation', \n",
    "    'english_test_taken', \n",
    "    'english_test_name', \n",
    "    'english_test_score', \n",
    "    'family_abroad', \n",
    "    'other_consultants', \n",
    "    'lead_converted_flag'\n",
    "]\n"
   ]
  },
  {
   "cell_type": "code",
   "execution_count": 94,
   "id": "7ed1bbe4",
   "metadata": {},
   "outputs": [
    {
     "data": {
      "text/plain": [
       "Index(['preferred_study_level', 'phd_supervisor', 'supervisor_approval',\n",
       "       'intended_study_area', 'preferred_dest_1', 'preferred_dest_2',\n",
       "       'preferred_dest_3', 'study_plan', 'uni_contacted',\n",
       "       'application_process', 'current_status', 'work_experience',\n",
       "       'birth_year', 'passport', 'academic_backlogs', 'number_of_backlogs',\n",
       "       'budget', 'funding_source', 'parents_occupation', 'english_test_taken',\n",
       "       'english_test_name', 'english_test_score', 'family_abroad',\n",
       "       'other_consultants', 'lead_converted_flag'],\n",
       "      dtype='object')"
      ]
     },
     "execution_count": 94,
     "metadata": {},
     "output_type": "execute_result"
    }
   ],
   "source": [
    "data.columns"
   ]
  },
  {
   "cell_type": "code",
   "execution_count": 95,
   "id": "6a64cdfa",
   "metadata": {},
   "outputs": [
    {
     "data": {
      "text/html": [
       "<div>\n",
       "<style scoped>\n",
       "    .dataframe tbody tr th:only-of-type {\n",
       "        vertical-align: middle;\n",
       "    }\n",
       "\n",
       "    .dataframe tbody tr th {\n",
       "        vertical-align: top;\n",
       "    }\n",
       "\n",
       "    .dataframe thead th {\n",
       "        text-align: right;\n",
       "    }\n",
       "</style>\n",
       "<table border=\"1\" class=\"dataframe\">\n",
       "  <thead>\n",
       "    <tr style=\"text-align: right;\">\n",
       "      <th></th>\n",
       "      <th>preferred_study_level</th>\n",
       "      <th>phd_supervisor</th>\n",
       "      <th>supervisor_approval</th>\n",
       "      <th>intended_study_area</th>\n",
       "      <th>preferred_dest_1</th>\n",
       "      <th>preferred_dest_2</th>\n",
       "      <th>preferred_dest_3</th>\n",
       "      <th>study_plan</th>\n",
       "      <th>uni_contacted</th>\n",
       "      <th>application_process</th>\n",
       "      <th>...</th>\n",
       "      <th>number_of_backlogs</th>\n",
       "      <th>budget</th>\n",
       "      <th>funding_source</th>\n",
       "      <th>parents_occupation</th>\n",
       "      <th>english_test_taken</th>\n",
       "      <th>english_test_name</th>\n",
       "      <th>english_test_score</th>\n",
       "      <th>family_abroad</th>\n",
       "      <th>other_consultants</th>\n",
       "      <th>lead_converted_flag</th>\n",
       "    </tr>\n",
       "  </thead>\n",
       "  <tbody>\n",
       "    <tr>\n",
       "      <th>0</th>\n",
       "      <td>Undergraduate</td>\n",
       "      <td>NaN</td>\n",
       "      <td>NaN</td>\n",
       "      <td>Other</td>\n",
       "      <td>New Zealand</td>\n",
       "      <td>New Zealand</td>\n",
       "      <td>New Zealand</td>\n",
       "      <td>01-01-21</td>\n",
       "      <td>No</td>\n",
       "      <td>NaN</td>\n",
       "      <td>...</td>\n",
       "      <td>NaN</td>\n",
       "      <td>10 - 20 lakhs</td>\n",
       "      <td>Parents asset</td>\n",
       "      <td>Own business</td>\n",
       "      <td>Yes</td>\n",
       "      <td>IELTS</td>\n",
       "      <td>5.5</td>\n",
       "      <td>Yes</td>\n",
       "      <td>Not in touch with any other consultant</td>\n",
       "      <td>0</td>\n",
       "    </tr>\n",
       "    <tr>\n",
       "      <th>1</th>\n",
       "      <td>Undergraduate</td>\n",
       "      <td>NaN</td>\n",
       "      <td>NaN</td>\n",
       "      <td>Other</td>\n",
       "      <td>New Zealand</td>\n",
       "      <td>New Zealand</td>\n",
       "      <td>New Zealand</td>\n",
       "      <td>01-01-21</td>\n",
       "      <td>No</td>\n",
       "      <td>NaN</td>\n",
       "      <td>...</td>\n",
       "      <td>NaN</td>\n",
       "      <td>10 - 20 lakhs</td>\n",
       "      <td>Parents asset</td>\n",
       "      <td>Own business</td>\n",
       "      <td>Yes</td>\n",
       "      <td>IELTS</td>\n",
       "      <td>5.5</td>\n",
       "      <td>Yes</td>\n",
       "      <td>Not in touch with any other consultant</td>\n",
       "      <td>0</td>\n",
       "    </tr>\n",
       "    <tr>\n",
       "      <th>2</th>\n",
       "      <td>Doctorate</td>\n",
       "      <td>Yes</td>\n",
       "      <td>Yes</td>\n",
       "      <td>Other</td>\n",
       "      <td>UK</td>\n",
       "      <td>UK</td>\n",
       "      <td>UK</td>\n",
       "      <td>01-01-21</td>\n",
       "      <td>Yes</td>\n",
       "      <td>No</td>\n",
       "      <td>...</td>\n",
       "      <td>NaN</td>\n",
       "      <td>20 - 30 lakhs</td>\n",
       "      <td>Bank loan</td>\n",
       "      <td>Own business</td>\n",
       "      <td>Yes</td>\n",
       "      <td>IELTS</td>\n",
       "      <td>8.0</td>\n",
       "      <td>No</td>\n",
       "      <td>Not in touch with any other consultancy</td>\n",
       "      <td>1</td>\n",
       "    </tr>\n",
       "    <tr>\n",
       "      <th>3</th>\n",
       "      <td>Undergraduate</td>\n",
       "      <td>NaN</td>\n",
       "      <td>NaN</td>\n",
       "      <td>Engineering</td>\n",
       "      <td>Australia</td>\n",
       "      <td>Canada</td>\n",
       "      <td>New Zealand</td>\n",
       "      <td>01.09.2021</td>\n",
       "      <td>No</td>\n",
       "      <td>NaN</td>\n",
       "      <td>...</td>\n",
       "      <td>NaN</td>\n",
       "      <td>10 lakhs or under</td>\n",
       "      <td>Other</td>\n",
       "      <td>Own business</td>\n",
       "      <td>No</td>\n",
       "      <td>NaN</td>\n",
       "      <td>NaN</td>\n",
       "      <td>Yes</td>\n",
       "      <td>Did not contact to any other consultant</td>\n",
       "      <td>0</td>\n",
       "    </tr>\n",
       "    <tr>\n",
       "      <th>4</th>\n",
       "      <td>Vocational</td>\n",
       "      <td>NaN</td>\n",
       "      <td>NaN</td>\n",
       "      <td>Other</td>\n",
       "      <td>New Zealand</td>\n",
       "      <td>Ireland</td>\n",
       "      <td>Canada</td>\n",
       "      <td>01-01-21</td>\n",
       "      <td>No</td>\n",
       "      <td>NaN</td>\n",
       "      <td>...</td>\n",
       "      <td>NaN</td>\n",
       "      <td>10 - 20 lakhs</td>\n",
       "      <td>Bank loan</td>\n",
       "      <td>Own business</td>\n",
       "      <td>Yes</td>\n",
       "      <td>IELTS</td>\n",
       "      <td>6.5</td>\n",
       "      <td>Yes</td>\n",
       "      <td>Not in touch with anyone</td>\n",
       "      <td>0</td>\n",
       "    </tr>\n",
       "  </tbody>\n",
       "</table>\n",
       "<p>5 rows × 25 columns</p>\n",
       "</div>"
      ],
      "text/plain": [
       "  preferred_study_level phd_supervisor supervisor_approval  \\\n",
       "0         Undergraduate            NaN                 NaN   \n",
       "1         Undergraduate            NaN                 NaN   \n",
       "2             Doctorate            Yes                 Yes   \n",
       "3         Undergraduate            NaN                 NaN   \n",
       "4            Vocational            NaN                 NaN   \n",
       "\n",
       "  intended_study_area preferred_dest_1 preferred_dest_2 preferred_dest_3  \\\n",
       "0               Other      New Zealand      New Zealand      New Zealand   \n",
       "1               Other      New Zealand      New Zealand      New Zealand   \n",
       "2               Other               UK               UK               UK   \n",
       "3         Engineering        Australia           Canada      New Zealand   \n",
       "4               Other      New Zealand          Ireland           Canada   \n",
       "\n",
       "   study_plan uni_contacted application_process  ... number_of_backlogs  \\\n",
       "0    01-01-21            No                 NaN  ...                NaN   \n",
       "1    01-01-21            No                 NaN  ...                NaN   \n",
       "2    01-01-21           Yes                  No  ...                NaN   \n",
       "3  01.09.2021            No                 NaN  ...                NaN   \n",
       "4    01-01-21            No                 NaN  ...                NaN   \n",
       "\n",
       "              budget  funding_source parents_occupation english_test_taken  \\\n",
       "0      10 - 20 lakhs   Parents asset       Own business                Yes   \n",
       "1      10 - 20 lakhs   Parents asset       Own business                Yes   \n",
       "2      20 - 30 lakhs       Bank loan       Own business                Yes   \n",
       "3  10 lakhs or under           Other       Own business                 No   \n",
       "4      10 - 20 lakhs       Bank loan       Own business                Yes   \n",
       "\n",
       "  english_test_name english_test_score family_abroad  \\\n",
       "0             IELTS                5.5           Yes   \n",
       "1             IELTS                5.5           Yes   \n",
       "2             IELTS                8.0            No   \n",
       "3               NaN                NaN           Yes   \n",
       "4             IELTS                6.5           Yes   \n",
       "\n",
       "                          other_consultants lead_converted_flag  \n",
       "0    Not in touch with any other consultant                   0  \n",
       "1    Not in touch with any other consultant                   0  \n",
       "2   Not in touch with any other consultancy                   1  \n",
       "3  Did not contact to any other consultant                    0  \n",
       "4                  Not in touch with anyone                   0  \n",
       "\n",
       "[5 rows x 25 columns]"
      ]
     },
     "execution_count": 95,
     "metadata": {},
     "output_type": "execute_result"
    }
   ],
   "source": [
    "df=data\n",
    "df.head(5)"
   ]
  },
  {
   "cell_type": "code",
   "execution_count": 96,
   "id": "21e3f7c5",
   "metadata": {
    "scrolled": true
   },
   "outputs": [
    {
     "data": {
      "text/plain": [
       "preferred_study_level\n",
       "Postgraduate     1301\n",
       "Undergraduate     407\n",
       "Vocational        246\n",
       "Other               5\n",
       "Doctorate           3\n",
       "Name: count, dtype: int64"
      ]
     },
     "execution_count": 96,
     "metadata": {},
     "output_type": "execute_result"
    }
   ],
   "source": [
    "df[\"preferred_study_level\"].value_counts()\n"
   ]
  },
  {
   "cell_type": "code",
   "execution_count": 97,
   "id": "ed5b7b27",
   "metadata": {},
   "outputs": [],
   "source": [
    "df[\"preferred_study_level\"]=df[\"preferred_study_level\"].fillna(\"Other\")"
   ]
  },
  {
   "cell_type": "code",
   "execution_count": 98,
   "id": "f1deb287",
   "metadata": {},
   "outputs": [
    {
     "data": {
      "text/plain": [
       "preferred_study_level\n",
       "Postgraduate     1301\n",
       "Undergraduate     407\n",
       "Vocational        246\n",
       "Other               5\n",
       "Doctorate           3\n",
       "Name: count, dtype: int64"
      ]
     },
     "execution_count": 98,
     "metadata": {},
     "output_type": "execute_result"
    }
   ],
   "source": [
    "df[\"preferred_study_level\"].value_counts()"
   ]
  },
  {
   "cell_type": "code",
   "execution_count": 99,
   "id": "85f9639b",
   "metadata": {},
   "outputs": [
    {
     "data": {
      "text/plain": [
       "'\\nencoder = LabelEncoder()\\ndf[\"preferred_study_level\"] = encoder.fit_transform(df[\"preferred_study_level\"])\\n\\ndf[\"preferred_study_level\"]\\n'"
      ]
     },
     "execution_count": 99,
     "metadata": {},
     "output_type": "execute_result"
    }
   ],
   "source": [
    "\"\"\"\n",
    "encoder = LabelEncoder()\n",
    "df[\"preferred_study_level\"] = encoder.fit_transform(df[\"preferred_study_level\"])\n",
    "\n",
    "df[\"preferred_study_level\"]\n",
    "\"\"\""
   ]
  },
  {
   "cell_type": "code",
   "execution_count": 100,
   "id": "656e59d4",
   "metadata": {},
   "outputs": [],
   "source": [
    "df[\"phd_supervisor\"]=df[\"phd_supervisor\"].fillna(\"No\")"
   ]
  },
  {
   "cell_type": "code",
   "execution_count": 101,
   "id": "0fd98c51",
   "metadata": {},
   "outputs": [
    {
     "data": {
      "text/plain": [
       "phd_supervisor\n",
       "No     1961\n",
       "Yes       1\n",
       "Name: count, dtype: int64"
      ]
     },
     "execution_count": 101,
     "metadata": {},
     "output_type": "execute_result"
    }
   ],
   "source": [
    "df[\"phd_supervisor\"].value_counts()"
   ]
  },
  {
   "cell_type": "code",
   "execution_count": 102,
   "id": "9137cbbd",
   "metadata": {},
   "outputs": [
    {
     "data": {
      "text/plain": [
       "supervisor_approval\n",
       "No     1961\n",
       "Yes       1\n",
       "Name: count, dtype: int64"
      ]
     },
     "execution_count": 102,
     "metadata": {},
     "output_type": "execute_result"
    }
   ],
   "source": [
    "df[\"supervisor_approval\"]=df[\"supervisor_approval\"].fillna(\"No\")\n",
    "df[\"supervisor_approval\"].value_counts()"
   ]
  },
  {
   "cell_type": "code",
   "execution_count": 103,
   "id": "11420d3a",
   "metadata": {},
   "outputs": [
    {
     "data": {
      "text/plain": [
       "intended_study_area\n",
       "Business & Economics                           293\n",
       "Engineering                                    289\n",
       "Other                                          201\n",
       "Computer Science and Information Technology    198\n",
       "Sciences                                        77\n",
       "                                              ... \n",
       "Law                                              1\n",
       "Vetenary                                         1\n",
       "Oceanography                                     1\n",
       "International Business                           1\n",
       "Life Sciences                                    1\n",
       "Name: count, Length: 270, dtype: int64"
      ]
     },
     "execution_count": 103,
     "metadata": {},
     "output_type": "execute_result"
    }
   ],
   "source": [
    "df[\"intended_study_area\"]=df[\"intended_study_area\"].fillna(\"Other\")\n",
    "df[\"intended_study_area\"].value_counts()\n"
   ]
  },
  {
   "cell_type": "code",
   "execution_count": 104,
   "id": "71dc3fd9",
   "metadata": {},
   "outputs": [
    {
     "data": {
      "text/plain": [
       "preferred_dest_1\n",
       "Canada         653\n",
       "UK             515\n",
       "Australia      355\n",
       "USA            340\n",
       "New Zealand     54\n",
       "Ireland         45\n",
       "Name: count, dtype: int64"
      ]
     },
     "execution_count": 104,
     "metadata": {},
     "output_type": "execute_result"
    }
   ],
   "source": [
    "df[\"preferred_dest_1\"]=df[\"preferred_dest_1\"].fillna(\"Other\")\n",
    "df[\"preferred_dest_1\"].value_counts()"
   ]
  },
  {
   "cell_type": "code",
   "execution_count": 105,
   "id": "75b7faa6",
   "metadata": {
    "scrolled": true
   },
   "outputs": [
    {
     "data": {
      "text/plain": [
       "preferred_dest_2\n",
       "Other          804\n",
       "Canada         398\n",
       "UK             243\n",
       "Australia      226\n",
       "USA            167\n",
       "Ireland         66\n",
       "New Zealand     58\n",
       "Name: count, dtype: int64"
      ]
     },
     "execution_count": 105,
     "metadata": {},
     "output_type": "execute_result"
    }
   ],
   "source": [
    "df[\"preferred_dest_2\"]=df[\"preferred_dest_2\"].fillna(\"Other\")\n",
    "df[\"preferred_dest_2\"].value_counts()"
   ]
  },
  {
   "cell_type": "code",
   "execution_count": 106,
   "id": "08f390f3",
   "metadata": {
    "scrolled": false
   },
   "outputs": [
    {
     "data": {
      "text/plain": [
       "preferred_dest_3\n",
       "Other          1181\n",
       "Canada          222\n",
       "Australia       169\n",
       "UK              158\n",
       "USA             114\n",
       "New Zealand      60\n",
       "Ireland          58\n",
       "Name: count, dtype: int64"
      ]
     },
     "execution_count": 106,
     "metadata": {},
     "output_type": "execute_result"
    }
   ],
   "source": [
    "df[\"preferred_dest_3\"]=df[\"preferred_dest_3\"].fillna(\"Other\")\n",
    "df[\"preferred_dest_3\"].value_counts()"
   ]
  },
  {
   "cell_type": "code",
   "execution_count": 107,
   "id": "809e8e31",
   "metadata": {},
   "outputs": [
    {
     "data": {
      "text/plain": [
       "'# Define the country-to-numeric mapping\\ncountry_mapping = {\\n    \\'Canada\\': 0,\\n    \\'UK\\': 1,\\n    \\'Australia\\': 2,\\n    \\'USA\\': 3,\\n    \\'New Zealand\\': 4,\\n    \\'Ireland\\': 5,\\n    \\'Other\\': 6  # Include \\'Other\\' as a placeholder value\\n}\\n\\n# Apply the mapping and fill missing values with -1\\ndf[\"preferred_dest_1\"] = df[\"preferred_dest_1\"].map(country_mapping).fillna(6).astype(int)\\ndf[\"preferred_dest_2\"] = df[\"preferred_dest_2\"].map(country_mapping).fillna(6).astype(int)\\ndf[\"preferred_dest_3\"] = df[\"preferred_dest_3\"].map(country_mapping).fillna(6).astype(int)\\n\\n# Display the first few rows to verify the transformation\\nprint(df.head())\\n'"
      ]
     },
     "execution_count": 107,
     "metadata": {},
     "output_type": "execute_result"
    }
   ],
   "source": [
    "'''# Define the country-to-numeric mapping\n",
    "country_mapping = {\n",
    "    'Canada': 0,\n",
    "    'UK': 1,\n",
    "    'Australia': 2,\n",
    "    'USA': 3,\n",
    "    'New Zealand': 4,\n",
    "    'Ireland': 5,\n",
    "    'Other': 6  # Include 'Other' as a placeholder value\n",
    "}\n",
    "\n",
    "# Apply the mapping and fill missing values with -1\n",
    "df[\"preferred_dest_1\"] = df[\"preferred_dest_1\"].map(country_mapping).fillna(6).astype(int)\n",
    "df[\"preferred_dest_2\"] = df[\"preferred_dest_2\"].map(country_mapping).fillna(6).astype(int)\n",
    "df[\"preferred_dest_3\"] = df[\"preferred_dest_3\"].map(country_mapping).fillna(6).astype(int)\n",
    "\n",
    "# Display the first few rows to verify the transformation\n",
    "print(df.head())\n",
    "'''"
   ]
  },
  {
   "cell_type": "code",
   "execution_count": 108,
   "id": "75f08035",
   "metadata": {},
   "outputs": [
    {
     "name": "stdout",
     "output_type": "stream",
     "text": [
      "0       01-2021\n",
      "1       01-2021\n",
      "2       01-2021\n",
      "3       09-2021\n",
      "4       01-2021\n",
      "         ...   \n",
      "1957    06-2005\n",
      "1958    01-2022\n",
      "1959    01-2021\n",
      "1960    01-2021\n",
      "1961    01-2021\n",
      "Name: study_plan, Length: 1962, dtype: object\n"
     ]
    }
   ],
   "source": [
    "import pandas as pd\n",
    "from datetime import datetime\n",
    "\n",
    "# Assuming 'data' is the DataFrame and 'study_plan' is the column to standardize\n",
    "def standardize_study_plan(date_str):\n",
    "    try:\n",
    "        # Try parsing directly for formats like 'Jan-21', 'Sep-21'\n",
    "        date = pd.to_datetime(date_str, format='%b-%y')\n",
    "    except ValueError:\n",
    "        try:\n",
    "            # Try parsing for formats like '01.09.2021'\n",
    "            date = pd.to_datetime(date_str, format='%d.%m.%Y')\n",
    "        except ValueError:\n",
    "            try:\n",
    "                # Catch other formats\n",
    "                date = pd.to_datetime(date_str)\n",
    "            except ValueError:\n",
    "                # Return None if parsing fails\n",
    "                return None\n",
    "    \n",
    "    # Convert to MM-YYYY format\n",
    "    return date.strftime('%m-%Y')\n",
    "\n",
    "# Apply the function to the 'study_plan' column\n",
    "df['study_plan'] = df['study_plan'].apply(standardize_study_plan)\n",
    "\n",
    "# Check the result\n",
    "print(df['study_plan'])\n"
   ]
  },
  {
   "cell_type": "code",
   "execution_count": 109,
   "id": "983dbf8f",
   "metadata": {},
   "outputs": [
    {
     "data": {
      "text/plain": [
       "uni_contacted\n",
       "No     1643\n",
       "Yes     319\n",
       "Name: count, dtype: int64"
      ]
     },
     "execution_count": 109,
     "metadata": {},
     "output_type": "execute_result"
    }
   ],
   "source": [
    "df['uni_contacted']=df['uni_contacted'].fillna(\"No\")\n",
    "df['uni_contacted'].value_counts()"
   ]
  },
  {
   "cell_type": "code",
   "execution_count": 110,
   "id": "5cec2fda",
   "metadata": {},
   "outputs": [
    {
     "data": {
      "text/plain": [
       "application_process\n",
       "No     1943\n",
       "Yes      19\n",
       "Name: count, dtype: int64"
      ]
     },
     "execution_count": 110,
     "metadata": {},
     "output_type": "execute_result"
    }
   ],
   "source": [
    "df['application_process']=df['application_process'].fillna(\"No\")\n",
    "df[\"application_process\"].value_counts()"
   ]
  },
  {
   "cell_type": "code",
   "execution_count": 111,
   "id": "207bbb1e",
   "metadata": {
    "scrolled": false
   },
   "outputs": [
    {
     "data": {
      "text/plain": [
       "current_status\n",
       "Student                 1267\n",
       "Working professional     695\n",
       "Name: count, dtype: int64"
      ]
     },
     "execution_count": 111,
     "metadata": {},
     "output_type": "execute_result"
    }
   ],
   "source": [
    "df[\"current_status\"]=df[\"current_status\"].fillna(\"Other\")\n",
    "df[\"current_status\"].value_counts()\n"
   ]
  },
  {
   "cell_type": "code",
   "execution_count": 112,
   "id": "4880dd78",
   "metadata": {},
   "outputs": [
    {
     "data": {
      "text/plain": [
       "work_experience\n",
       "1 - 3 years of work exp    335\n",
       "4 - 6 years of work exp    141\n",
       "7+ years of work exp       113\n",
       "< 1 year of work exp       106\n",
       "Name: count, dtype: int64"
      ]
     },
     "execution_count": 112,
     "metadata": {},
     "output_type": "execute_result"
    }
   ],
   "source": [
    "df[\"work_experience\"].value_counts()"
   ]
  },
  {
   "cell_type": "code",
   "execution_count": 113,
   "id": "21bc9004",
   "metadata": {},
   "outputs": [
    {
     "name": "stdout",
     "output_type": "stream",
     "text": [
      "work_experience\n",
      "0      1267\n",
      "1-3     335\n",
      "4-6     141\n",
      "7+      113\n",
      "<1      106\n",
      "Name: count, dtype: int64\n"
     ]
    }
   ],
   "source": [
    "import pandas as pd\n",
    "\n",
    "# Example DataFrame (assuming you have this column in your DataFrame)\n",
    "# Mapping the original work experience strings to simplified versions\n",
    "work_experience_map = {\n",
    "    '1 - 3 years of work exp': '1-3',\n",
    "    '4 - 6 years of work exp': '4-6',\n",
    "    '7+ years of work exp': '7+',\n",
    "    '< 1 year of work exp': '<1'\n",
    "}\n",
    "\n",
    "# Replace the values in the 'work_experience' column\n",
    "df['work_experience'] = df['work_experience'].replace(work_experience_map)\n",
    "df['work_experience'] = df['work_experience'].fillna(0)\n",
    "\n",
    "# Verify the changes\n",
    "print(df['work_experience'].value_counts())\n"
   ]
  },
  {
   "cell_type": "code",
   "execution_count": 114,
   "id": "97390447",
   "metadata": {},
   "outputs": [
    {
     "data": {
      "text/plain": [
       "0           1997.00\n",
       "1           1997.00\n",
       "2              3.02\n",
       "3       19042002.00\n",
       "4           1986.00\n",
       "           ...     \n",
       "1957        1993.00\n",
       "1958        2002.00\n",
       "1959        1996.00\n",
       "1960        1999.00\n",
       "1961        1997.00\n",
       "Name: birth_year, Length: 1962, dtype: float64"
      ]
     },
     "execution_count": 114,
     "metadata": {},
     "output_type": "execute_result"
    }
   ],
   "source": [
    "df[\"birth_year\"]"
   ]
  },
  {
   "cell_type": "code",
   "execution_count": 115,
   "id": "4011e80d",
   "metadata": {},
   "outputs": [
    {
     "name": "stdout",
     "output_type": "stream",
     "text": [
      "0    1997\n",
      "1    1997\n",
      "2       0\n",
      "3    2002\n",
      "4    1986\n",
      "Name: birth_year, dtype: int32\n",
      "0    1997\n",
      "1    1997\n",
      "2       0\n",
      "3    2002\n",
      "4    1986\n",
      "Name: birth_year, dtype: int32\n"
     ]
    }
   ],
   "source": [
    "import pandas as pd\n",
    "\n",
    "# Function to clean and convert birth year values\n",
    "def clean_birth_year(value):\n",
    "    try:\n",
    "        # If the value looks like a valid year (e.g., in the range 1900 - 2100), convert it\n",
    "        if 1900 <= float(value) <= 2100:\n",
    "            return int(float(value))\n",
    "        # Handle cases where there might be larger incorrect values (e.g., 19042002)\n",
    "        elif value > 2100:\n",
    "            return int(str(int(float(value)))[-4:])  # Take the last 4 digits\n",
    "        else:\n",
    "            return None  # Return None for invalid values\n",
    "    except (ValueError, TypeError):\n",
    "        return None  # If conversion fails, return None\n",
    "\n",
    "# Apply the function to the 'birth_year' column\n",
    "df['birth_year'] = df['birth_year'].apply(clean_birth_year)\n",
    "# Fill NaN values with 0 or some other value before conversion to integer\n",
    "df['birth_year'] = df['birth_year'].fillna(0)\n",
    "\n",
    "# Convert the 'birth_year' column to integer (this removes the '.0')\n",
    "df['birth_year'] = df['birth_year'].astype(int)\n",
    "\n",
    "# Verify the result\n",
    "print(df['birth_year'].head())\n",
    "\n",
    "\n",
    "# Check the result\n",
    "print(df['birth_year'].head())\n"
   ]
  },
  {
   "cell_type": "code",
   "execution_count": 116,
   "id": "c2df3681",
   "metadata": {},
   "outputs": [
    {
     "data": {
      "text/plain": [
       "birth_year\n",
       "1999    229\n",
       "1998    220\n",
       "1997    184\n",
       "1996    173\n",
       "2000    167\n",
       "1995    153\n",
       "2002    145\n",
       "2001    117\n",
       "2003    100\n",
       "1994     95\n",
       "1993     65\n",
       "1992     59\n",
       "1991     46\n",
       "2004     33\n",
       "1990     26\n",
       "1989     22\n",
       "1988     21\n",
       "1987     16\n",
       "1986     15\n",
       "1984     13\n",
       "1985     12\n",
       "1983     12\n",
       "2005      8\n",
       "1981      6\n",
       "0         4\n",
       "1979      3\n",
       "1982      3\n",
       "1980      3\n",
       "1973      2\n",
       "1970      1\n",
       "1975      1\n",
       "2007      1\n",
       "1         1\n",
       "1978      1\n",
       "1976      1\n",
       "1967      1\n",
       "2006      1\n",
       "1972      1\n",
       "1969      1\n",
       "Name: count, dtype: int64"
      ]
     },
     "execution_count": 116,
     "metadata": {},
     "output_type": "execute_result"
    }
   ],
   "source": [
    "df['birth_year'].value_counts()"
   ]
  },
  {
   "cell_type": "code",
   "execution_count": 117,
   "id": "6fe8c618",
   "metadata": {},
   "outputs": [
    {
     "data": {
      "text/plain": [
       "passport\n",
       "Yes    1403\n",
       "No      559\n",
       "Name: count, dtype: int64"
      ]
     },
     "execution_count": 117,
     "metadata": {},
     "output_type": "execute_result"
    }
   ],
   "source": [
    "df[\"passport\"]=df[\"passport\"].fillna(\"No\")\n",
    "df[\"passport\"].value_counts()"
   ]
  },
  {
   "cell_type": "code",
   "execution_count": 118,
   "id": "60e4f5f2",
   "metadata": {},
   "outputs": [
    {
     "data": {
      "text/plain": [
       "academic_backlogs\n",
       "No     1613\n",
       "Yes     349\n",
       "Name: count, dtype: int64"
      ]
     },
     "execution_count": 118,
     "metadata": {},
     "output_type": "execute_result"
    }
   ],
   "source": [
    "df[\"academic_backlogs\"]=df[\"academic_backlogs\"].fillna(\"No\")\n",
    "df[\"academic_backlogs\"].value_counts()"
   ]
  },
  {
   "cell_type": "code",
   "execution_count": 119,
   "id": "81dc1bad",
   "metadata": {},
   "outputs": [
    {
     "data": {
      "text/plain": [
       "number_of_backlogs\n",
       "0         1613\n",
       "< 5        251\n",
       "06-Oct      53\n",
       "> 10        45\n",
       "Name: count, dtype: int64"
      ]
     },
     "execution_count": 119,
     "metadata": {},
     "output_type": "execute_result"
    }
   ],
   "source": [
    "df[\"number_of_backlogs\"]=df[\"number_of_backlogs\"].fillna(0)\n",
    "df[\"number_of_backlogs\"].value_counts()"
   ]
  },
  {
   "cell_type": "code",
   "execution_count": 120,
   "id": "5a43b7d1",
   "metadata": {
    "scrolled": true
   },
   "outputs": [
    {
     "name": "stdout",
     "output_type": "stream",
     "text": [
      "number_of_backlogs\n",
      "0      1613\n",
      "<5      251\n",
      "6        53\n",
      ">10      45\n",
      "Name: count, dtype: int64\n"
     ]
    }
   ],
   "source": [
    "# Mapping the number_of_backlogs values to a simplified format\n",
    "df['number_of_backlogs'] = df['number_of_backlogs'].str.strip()\n",
    "number_of_backlogs_map = {\n",
    "    '06-Oct': \"6\",\n",
    "    '< 5': \"<5\",\n",
    "    '> 10': \">10\"\n",
    "}\n",
    "\n",
    "# Replace the values in the 'number_of_backlogs' column\n",
    "df['number_of_backlogs'] = df['number_of_backlogs'].replace(number_of_backlogs_map)\n",
    "\n",
    "# Fill NaN values with 0\n",
    "df['number_of_backlogs'] = df['number_of_backlogs'].fillna(0)\n",
    "\n",
    "# Verify the changes\n",
    "print(df['number_of_backlogs'].value_counts())\n"
   ]
  },
  {
   "cell_type": "code",
   "execution_count": 121,
   "id": "73052708",
   "metadata": {},
   "outputs": [
    {
     "data": {
      "text/plain": [
       "budget\n",
       "Not provided         1140\n",
       "10 - 20 lakhs         387\n",
       "10 lakhs or under     228\n",
       "20 - 30 lakhs         137\n",
       "30 lakhs and over      70\n",
       "Name: count, dtype: int64"
      ]
     },
     "execution_count": 121,
     "metadata": {},
     "output_type": "execute_result"
    }
   ],
   "source": [
    "df['budget'].value_counts()"
   ]
  },
  {
   "cell_type": "code",
   "execution_count": 122,
   "id": "62987908",
   "metadata": {},
   "outputs": [
    {
     "name": "stdout",
     "output_type": "stream",
     "text": [
      "budget\n",
      "Not provided    1140\n",
      "10-20            387\n",
      "<10              228\n",
      "20-30            137\n",
      ">30               70\n",
      "Name: count, dtype: int64\n"
     ]
    }
   ],
   "source": [
    "# Mapping the budget values to the desired simplified format\n",
    "budget_map = {\n",
    "    'Not provided': 'Not provided',\n",
    "    '10 - 20 lakhs': '10-20',\n",
    "    '10 lakhs or under': '<10',\n",
    "    '20 - 30 lakhs': '20-30',\n",
    "    '30 lakhs and over': '>30'\n",
    "}\n",
    "\n",
    "# Replace the values in the 'budget' column\n",
    "df['budget'] = df['budget'].replace(budget_map)\n",
    "\n",
    "# Verify the changes\n",
    "print(df['budget'].value_counts())\n"
   ]
  },
  {
   "cell_type": "code",
   "execution_count": 123,
   "id": "185176c0",
   "metadata": {},
   "outputs": [
    {
     "name": "stdout",
     "output_type": "stream",
     "text": [
      "budget\n",
      "Not provided    1140\n",
      "10-20            387\n",
      "<10              228\n",
      "20-30            137\n",
      ">30               70\n",
      "Name: count, dtype: int64\n"
     ]
    }
   ],
   "source": [
    "# Fill NaN values in the 'budget' column with 'Not provided'\n",
    "df['budget'] = df['budget'].fillna('Not provided')\n",
    "\n",
    "# Verify the changes\n",
    "print(df['budget'].value_counts())\n"
   ]
  },
  {
   "cell_type": "code",
   "execution_count": 124,
   "id": "2181f293",
   "metadata": {},
   "outputs": [
    {
     "data": {
      "text/plain": [
       "funding_source\n",
       "Parents asset                                  1096\n",
       "Combined self /parent funding and bank loan     255\n",
       "Bank loan                                       217\n",
       "Self funding                                    210\n",
       "Other                                            99\n",
       "Not provided                                     72\n",
       "Sponsorship by relatives                         13\n",
       "Name: count, dtype: int64"
      ]
     },
     "execution_count": 124,
     "metadata": {},
     "output_type": "execute_result"
    }
   ],
   "source": [
    "df[\"funding_source\"]=df[\"funding_source\"].fillna(\"Not provided\")\n",
    "df[\"funding_source\"].value_counts()"
   ]
  },
  {
   "cell_type": "code",
   "execution_count": 125,
   "id": "4e73e7cc",
   "metadata": {},
   "outputs": [
    {
     "data": {
      "text/plain": [
       "parents_occupation\n",
       "In-Service      721\n",
       "Own business    702\n",
       "Not provided    539\n",
       "Name: count, dtype: int64"
      ]
     },
     "execution_count": 125,
     "metadata": {},
     "output_type": "execute_result"
    }
   ],
   "source": [
    "df[\"parents_occupation\"]=df[\"parents_occupation\"].fillna(\"Not provided\")\n",
    "df['parents_occupation'].value_counts()"
   ]
  },
  {
   "cell_type": "code",
   "execution_count": 126,
   "id": "4861343e",
   "metadata": {},
   "outputs": [
    {
     "data": {
      "text/plain": [
       "english_test_taken\n",
       "No     1696\n",
       "Yes     266\n",
       "Name: count, dtype: int64"
      ]
     },
     "execution_count": 126,
     "metadata": {},
     "output_type": "execute_result"
    }
   ],
   "source": [
    "df[\"english_test_taken\"]=df[\"english_test_taken\"].fillna(\"No\")\n",
    "df[\"english_test_taken\"].value_counts()"
   ]
  },
  {
   "cell_type": "code",
   "execution_count": 127,
   "id": "c4c5c778",
   "metadata": {
    "scrolled": false
   },
   "outputs": [
    {
     "data": {
      "text/plain": [
       "english_test_name\n",
       "Not Taken    1696\n",
       "IELTS         210\n",
       "Other          19\n",
       "GRE            19\n",
       "TOEFL          16\n",
       "GMAT            2\n",
       "Name: count, dtype: int64"
      ]
     },
     "execution_count": 127,
     "metadata": {},
     "output_type": "execute_result"
    }
   ],
   "source": [
    "df[\"english_test_name\"]=df[\"english_test_name\"].fillna(\"Not Taken\")\n",
    "df['english_test_name'].value_counts()"
   ]
  },
  {
   "cell_type": "code",
   "execution_count": 128,
   "id": "af9629e9",
   "metadata": {},
   "outputs": [
    {
     "data": {
      "text/plain": [
       "english_test_score\n",
       "0.0      1696\n",
       "6.0        53\n",
       "6.5        52\n",
       "7.0        43\n",
       "7.5        24\n",
       "5.5        21\n",
       "8.0        19\n",
       "8.1         4\n",
       "62.0        2\n",
       "314.0       2\n",
       "301.0       2\n",
       "318.0       2\n",
       "8.5         2\n",
       "7.9         2\n",
       "89.0        1\n",
       "322.0       1\n",
       "93.0        1\n",
       "79.0        1\n",
       "81.0        1\n",
       "80.0        1\n",
       "320.0       1\n",
       "345.0       1\n",
       "118.0       1\n",
       "313.0       1\n",
       "4.0         1\n",
       "49.0        1\n",
       "100.0       1\n",
       "310.0       1\n",
       "90.0        1\n",
       "54.0        1\n",
       "5.0         1\n",
       "299.0       1\n",
       "56.0        1\n",
       "702.0       1\n",
       "103.0       1\n",
       "10.0        1\n",
       "294.0       1\n",
       "106.0       1\n",
       "321.0       1\n",
       "120.0       1\n",
       "315.0       1\n",
       "500.0       1\n",
       "8.2         1\n",
       "309.0       1\n",
       "135.0       1\n",
       "6.7         1\n",
       "110.0       1\n",
       "63.0        1\n",
       "98.0        1\n",
       "290.0       1\n",
       "306.0       1\n",
       "68.0        1\n",
       "Name: count, dtype: int64"
      ]
     },
     "execution_count": 128,
     "metadata": {},
     "output_type": "execute_result"
    }
   ],
   "source": [
    "df[\"english_test_score\"]=df[\"english_test_score\"].fillna(0)\n",
    "df[\"english_test_score\"].value_counts()"
   ]
  },
  {
   "cell_type": "code",
   "execution_count": 129,
   "id": "1124f079",
   "metadata": {},
   "outputs": [
    {
     "data": {
      "text/plain": [
       "family_abroad\n",
       "Yes    990\n",
       "No     972\n",
       "Name: count, dtype: int64"
      ]
     },
     "execution_count": 129,
     "metadata": {},
     "output_type": "execute_result"
    }
   ],
   "source": [
    "df[\"family_abroad\"]=df[\"family_abroad\"].fillna(\"No\")\n",
    "df[\"family_abroad\"].value_counts()"
   ]
  },
  {
   "cell_type": "code",
   "execution_count": 136,
   "id": "4840e48c",
   "metadata": {},
   "outputs": [
    {
     "name": "stdout",
     "output_type": "stream",
     "text": [
      "other_consultants\n",
      "No                                                                          1852\n",
      "Not Provided                                                                   4\n",
      "No did not contact                                                             4\n",
      "yes                                                                            3\n",
      "not remember                                                                   2\n",
      "                                                                            ... \n",
      "Only in touch with IDP                                                         1\n",
      "Yocket, ubergrad and eduins \\n                                                 1\n",
      "He had a word with UK UNIVERSTIES regarding his higher studies in aborad       1\n",
      "Krishna Consultant.                                                            1\n",
      "In touch AECC Global                                                           1\n",
      "Name: count, Length: 100, dtype: int64\n"
     ]
    }
   ],
   "source": [
    "# Define the mapping to standardize all relevant values as 'no'\n",
    "other_consultants_map = {\n",
    "    'none': 'No',\n",
    "    'No': 'No',\n",
    "    'None yet.': 'No',\n",
    "    'no': 'No',\n",
    "    'No did not contact': 'No',\n",
    "    'not in touch with anyone': 'No',\n",
    "    'NONE': 'No',\n",
    "    'Not in touch with any other consultant': 'No',\n",
    "    'Not in touch with anyone.': 'No',\n",
    "    'not comfortable share': 'No',\n",
    "    'NO':'No'\n",
    "    \n",
    "}\n",
    "\n",
    "# Replace the values in the 'other_consultants' column\n",
    "df['other_consultants'] = df['other_consultants'].replace(other_consultants_map)\n",
    "\n",
    "# Fill NaN values with 'no' if needed\n",
    "df['other_consultants'] = df['other_consultants'].fillna('No')\n",
    "\n",
    "# Verify the changes\n",
    "print(df['other_consultants'].value_counts())\n"
   ]
  },
  {
   "cell_type": "code",
   "execution_count": 137,
   "id": "4667fbfb",
   "metadata": {},
   "outputs": [
    {
     "data": {
      "text/plain": [
       "0       0\n",
       "1       0\n",
       "2       1\n",
       "3       0\n",
       "4       0\n",
       "       ..\n",
       "1957    0\n",
       "1958    0\n",
       "1959    0\n",
       "1960    0\n",
       "1961    0\n",
       "Name: lead_converted_flag, Length: 1962, dtype: int64"
      ]
     },
     "execution_count": 137,
     "metadata": {},
     "output_type": "execute_result"
    }
   ],
   "source": [
    "df[\"lead_converted_flag\"]"
   ]
  },
  {
   "cell_type": "code",
   "execution_count": 138,
   "id": "2ddda254",
   "metadata": {},
   "outputs": [
    {
     "data": {
      "text/html": [
       "<div>\n",
       "<style scoped>\n",
       "    .dataframe tbody tr th:only-of-type {\n",
       "        vertical-align: middle;\n",
       "    }\n",
       "\n",
       "    .dataframe tbody tr th {\n",
       "        vertical-align: top;\n",
       "    }\n",
       "\n",
       "    .dataframe thead th {\n",
       "        text-align: right;\n",
       "    }\n",
       "</style>\n",
       "<table border=\"1\" class=\"dataframe\">\n",
       "  <thead>\n",
       "    <tr style=\"text-align: right;\">\n",
       "      <th></th>\n",
       "      <th>preferred_study_level</th>\n",
       "      <th>phd_supervisor</th>\n",
       "      <th>supervisor_approval</th>\n",
       "      <th>intended_study_area</th>\n",
       "      <th>preferred_dest_1</th>\n",
       "      <th>preferred_dest_2</th>\n",
       "      <th>preferred_dest_3</th>\n",
       "      <th>study_plan</th>\n",
       "      <th>uni_contacted</th>\n",
       "      <th>application_process</th>\n",
       "      <th>...</th>\n",
       "      <th>number_of_backlogs</th>\n",
       "      <th>budget</th>\n",
       "      <th>funding_source</th>\n",
       "      <th>parents_occupation</th>\n",
       "      <th>english_test_taken</th>\n",
       "      <th>english_test_name</th>\n",
       "      <th>english_test_score</th>\n",
       "      <th>family_abroad</th>\n",
       "      <th>other_consultants</th>\n",
       "      <th>lead_converted_flag</th>\n",
       "    </tr>\n",
       "  </thead>\n",
       "  <tbody>\n",
       "    <tr>\n",
       "      <th>0</th>\n",
       "      <td>Undergraduate</td>\n",
       "      <td>No</td>\n",
       "      <td>No</td>\n",
       "      <td>Other</td>\n",
       "      <td>New Zealand</td>\n",
       "      <td>New Zealand</td>\n",
       "      <td>New Zealand</td>\n",
       "      <td>01-2021</td>\n",
       "      <td>No</td>\n",
       "      <td>No</td>\n",
       "      <td>...</td>\n",
       "      <td>0</td>\n",
       "      <td>10-20</td>\n",
       "      <td>Parents asset</td>\n",
       "      <td>Own business</td>\n",
       "      <td>Yes</td>\n",
       "      <td>IELTS</td>\n",
       "      <td>5.5</td>\n",
       "      <td>Yes</td>\n",
       "      <td>No</td>\n",
       "      <td>0</td>\n",
       "    </tr>\n",
       "    <tr>\n",
       "      <th>1</th>\n",
       "      <td>Undergraduate</td>\n",
       "      <td>No</td>\n",
       "      <td>No</td>\n",
       "      <td>Other</td>\n",
       "      <td>New Zealand</td>\n",
       "      <td>New Zealand</td>\n",
       "      <td>New Zealand</td>\n",
       "      <td>01-2021</td>\n",
       "      <td>No</td>\n",
       "      <td>No</td>\n",
       "      <td>...</td>\n",
       "      <td>0</td>\n",
       "      <td>10-20</td>\n",
       "      <td>Parents asset</td>\n",
       "      <td>Own business</td>\n",
       "      <td>Yes</td>\n",
       "      <td>IELTS</td>\n",
       "      <td>5.5</td>\n",
       "      <td>Yes</td>\n",
       "      <td>No</td>\n",
       "      <td>0</td>\n",
       "    </tr>\n",
       "    <tr>\n",
       "      <th>2</th>\n",
       "      <td>Doctorate</td>\n",
       "      <td>Yes</td>\n",
       "      <td>Yes</td>\n",
       "      <td>Other</td>\n",
       "      <td>UK</td>\n",
       "      <td>UK</td>\n",
       "      <td>UK</td>\n",
       "      <td>01-2021</td>\n",
       "      <td>Yes</td>\n",
       "      <td>No</td>\n",
       "      <td>...</td>\n",
       "      <td>0</td>\n",
       "      <td>20-30</td>\n",
       "      <td>Bank loan</td>\n",
       "      <td>Own business</td>\n",
       "      <td>Yes</td>\n",
       "      <td>IELTS</td>\n",
       "      <td>8.0</td>\n",
       "      <td>No</td>\n",
       "      <td>Not in touch with any other consultancy</td>\n",
       "      <td>1</td>\n",
       "    </tr>\n",
       "    <tr>\n",
       "      <th>3</th>\n",
       "      <td>Undergraduate</td>\n",
       "      <td>No</td>\n",
       "      <td>No</td>\n",
       "      <td>Engineering</td>\n",
       "      <td>Australia</td>\n",
       "      <td>Canada</td>\n",
       "      <td>New Zealand</td>\n",
       "      <td>09-2021</td>\n",
       "      <td>No</td>\n",
       "      <td>No</td>\n",
       "      <td>...</td>\n",
       "      <td>0</td>\n",
       "      <td>&lt;10</td>\n",
       "      <td>Other</td>\n",
       "      <td>Own business</td>\n",
       "      <td>No</td>\n",
       "      <td>Not Taken</td>\n",
       "      <td>0.0</td>\n",
       "      <td>Yes</td>\n",
       "      <td>Did not contact to any other consultant</td>\n",
       "      <td>0</td>\n",
       "    </tr>\n",
       "    <tr>\n",
       "      <th>4</th>\n",
       "      <td>Vocational</td>\n",
       "      <td>No</td>\n",
       "      <td>No</td>\n",
       "      <td>Other</td>\n",
       "      <td>New Zealand</td>\n",
       "      <td>Ireland</td>\n",
       "      <td>Canada</td>\n",
       "      <td>01-2021</td>\n",
       "      <td>No</td>\n",
       "      <td>No</td>\n",
       "      <td>...</td>\n",
       "      <td>0</td>\n",
       "      <td>10-20</td>\n",
       "      <td>Bank loan</td>\n",
       "      <td>Own business</td>\n",
       "      <td>Yes</td>\n",
       "      <td>IELTS</td>\n",
       "      <td>6.5</td>\n",
       "      <td>Yes</td>\n",
       "      <td>No</td>\n",
       "      <td>0</td>\n",
       "    </tr>\n",
       "  </tbody>\n",
       "</table>\n",
       "<p>5 rows × 25 columns</p>\n",
       "</div>"
      ],
      "text/plain": [
       "  preferred_study_level phd_supervisor supervisor_approval  \\\n",
       "0         Undergraduate             No                  No   \n",
       "1         Undergraduate             No                  No   \n",
       "2             Doctorate            Yes                 Yes   \n",
       "3         Undergraduate             No                  No   \n",
       "4            Vocational             No                  No   \n",
       "\n",
       "  intended_study_area preferred_dest_1 preferred_dest_2 preferred_dest_3  \\\n",
       "0               Other      New Zealand      New Zealand      New Zealand   \n",
       "1               Other      New Zealand      New Zealand      New Zealand   \n",
       "2               Other               UK               UK               UK   \n",
       "3         Engineering        Australia           Canada      New Zealand   \n",
       "4               Other      New Zealand          Ireland           Canada   \n",
       "\n",
       "  study_plan uni_contacted application_process  ... number_of_backlogs budget  \\\n",
       "0    01-2021            No                  No  ...                  0  10-20   \n",
       "1    01-2021            No                  No  ...                  0  10-20   \n",
       "2    01-2021           Yes                  No  ...                  0  20-30   \n",
       "3    09-2021            No                  No  ...                  0    <10   \n",
       "4    01-2021            No                  No  ...                  0  10-20   \n",
       "\n",
       "   funding_source parents_occupation english_test_taken english_test_name  \\\n",
       "0   Parents asset       Own business                Yes             IELTS   \n",
       "1   Parents asset       Own business                Yes             IELTS   \n",
       "2       Bank loan       Own business                Yes             IELTS   \n",
       "3           Other       Own business                 No         Not Taken   \n",
       "4       Bank loan       Own business                Yes             IELTS   \n",
       "\n",
       "  english_test_score family_abroad                         other_consultants  \\\n",
       "0                5.5           Yes                                        No   \n",
       "1                5.5           Yes                                        No   \n",
       "2                8.0            No   Not in touch with any other consultancy   \n",
       "3                0.0           Yes  Did not contact to any other consultant    \n",
       "4                6.5           Yes                                        No   \n",
       "\n",
       "  lead_converted_flag  \n",
       "0                   0  \n",
       "1                   0  \n",
       "2                   1  \n",
       "3                   0  \n",
       "4                   0  \n",
       "\n",
       "[5 rows x 25 columns]"
      ]
     },
     "execution_count": 138,
     "metadata": {},
     "output_type": "execute_result"
    }
   ],
   "source": [
    "df.head(5)"
   ]
  },
  {
   "cell_type": "code",
   "execution_count": 147,
   "id": "70b9cb0c",
   "metadata": {},
   "outputs": [
    {
     "data": {
      "text/plain": [
       "current_status                                          Student\n",
       "work_experience                                               0\n",
       "birth_year                                                 2002\n",
       "passport                                                     No\n",
       "academic_backlogs                                            No\n",
       "number_of_backlogs                                            0\n",
       "budget                                                      <10\n",
       "funding_source                                            Other\n",
       "parents_occupation                                 Own business\n",
       "english_test_taken                                           No\n",
       "english_test_name                                     Not Taken\n",
       "english_test_score                                          0.0\n",
       "family_abroad                                               Yes\n",
       "other_consultants      Did not contact to any other consultant \n",
       "lead_converted_flag                                           0\n",
       "Name: 3, dtype: object"
      ]
     },
     "execution_count": 147,
     "metadata": {},
     "output_type": "execute_result"
    }
   ],
   "source": [
    "df.iloc[3, 10:25]\n"
   ]
  },
  {
   "cell_type": "code",
   "execution_count": 141,
   "id": "b51bf96d",
   "metadata": {
    "scrolled": true
   },
   "outputs": [
    {
     "name": "stdout",
     "output_type": "stream",
     "text": [
      "DataFrame saved to Clean_data.csv\n"
     ]
    }
   ],
   "source": [
    "csv_file_path = 'Clean_data.csv'  # Save in the current working directory\n",
    "\n",
    "# Save the DataFrame to a CSV file\n",
    "df.to_csv(csv_file_path, index=False)\n",
    "\n",
    "print(f\"DataFrame saved to {csv_file_path}\")"
   ]
  },
  {
   "cell_type": "code",
   "execution_count": 142,
   "id": "172186a3",
   "metadata": {},
   "outputs": [
    {
     "ename": "AttributeError",
     "evalue": "'DataFrame' object has no attribute 'random'",
     "output_type": "error",
     "traceback": [
      "\u001b[1;31m---------------------------------------------------------------------------\u001b[0m",
      "\u001b[1;31mAttributeError\u001b[0m                            Traceback (most recent call last)",
      "\u001b[1;32m~\\AppData\\Local\\Temp\\ipykernel_13348\\2348150787.py\u001b[0m in \u001b[0;36m?\u001b[1;34m()\u001b[0m\n\u001b[1;32m----> 1\u001b[1;33m \u001b[0md\u001b[0m\u001b[1;33m=\u001b[0m\u001b[0mdf\u001b[0m\u001b[1;33m.\u001b[0m\u001b[0mrandom\u001b[0m\u001b[1;33m(\u001b[0m\u001b[1;33m)\u001b[0m\u001b[1;33m\u001b[0m\u001b[1;33m\u001b[0m\u001b[0m\n\u001b[0m",
      "\u001b[1;32m~\\anaconda3\\Lib\\site-packages\\pandas\\core\\generic.py\u001b[0m in \u001b[0;36m?\u001b[1;34m(self, name)\u001b[0m\n\u001b[0;32m   5985\u001b[0m             \u001b[1;32mand\u001b[0m \u001b[0mname\u001b[0m \u001b[1;32mnot\u001b[0m \u001b[1;32min\u001b[0m \u001b[0mself\u001b[0m\u001b[1;33m.\u001b[0m\u001b[0m_accessors\u001b[0m\u001b[1;33m\u001b[0m\u001b[1;33m\u001b[0m\u001b[0m\n\u001b[0;32m   5986\u001b[0m             \u001b[1;32mand\u001b[0m \u001b[0mself\u001b[0m\u001b[1;33m.\u001b[0m\u001b[0m_info_axis\u001b[0m\u001b[1;33m.\u001b[0m\u001b[0m_can_hold_identifiers_and_holds_name\u001b[0m\u001b[1;33m(\u001b[0m\u001b[0mname\u001b[0m\u001b[1;33m)\u001b[0m\u001b[1;33m\u001b[0m\u001b[1;33m\u001b[0m\u001b[0m\n\u001b[0;32m   5987\u001b[0m         ):\n\u001b[0;32m   5988\u001b[0m             \u001b[1;32mreturn\u001b[0m \u001b[0mself\u001b[0m\u001b[1;33m[\u001b[0m\u001b[0mname\u001b[0m\u001b[1;33m]\u001b[0m\u001b[1;33m\u001b[0m\u001b[1;33m\u001b[0m\u001b[0m\n\u001b[1;32m-> 5989\u001b[1;33m         \u001b[1;32mreturn\u001b[0m \u001b[0mobject\u001b[0m\u001b[1;33m.\u001b[0m\u001b[0m__getattribute__\u001b[0m\u001b[1;33m(\u001b[0m\u001b[0mself\u001b[0m\u001b[1;33m,\u001b[0m \u001b[0mname\u001b[0m\u001b[1;33m)\u001b[0m\u001b[1;33m\u001b[0m\u001b[1;33m\u001b[0m\u001b[0m\n\u001b[0m",
      "\u001b[1;31mAttributeError\u001b[0m: 'DataFrame' object has no attribute 'random'"
     ]
    }
   ],
   "source": []
  },
  {
   "cell_type": "code",
   "execution_count": null,
   "id": "cc0d5fd2",
   "metadata": {},
   "outputs": [],
   "source": []
  }
 ],
 "metadata": {
  "kernelspec": {
   "display_name": "Python 3 (ipykernel)",
   "language": "python",
   "name": "python3"
  },
  "language_info": {
   "codemirror_mode": {
    "name": "ipython",
    "version": 3
   },
   "file_extension": ".py",
   "mimetype": "text/x-python",
   "name": "python",
   "nbconvert_exporter": "python",
   "pygments_lexer": "ipython3",
   "version": "3.11.5"
  }
 },
 "nbformat": 4,
 "nbformat_minor": 5
}
